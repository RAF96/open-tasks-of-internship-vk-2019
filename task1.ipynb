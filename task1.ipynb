{
 "cells": [
  {
   "cell_type": "markdown",
   "metadata": {},
   "source": [
    "\n",
    "<h1 id=\"Вступительное-задание-в-комманду-ML.\">Вступительное задание в комманду ML.<a class=\"anchor-link\" href=\"#Вступительное-задание-в-комманду-ML.\">¶</a></h1><p>Рябушев Антон. Май 2019 года.</p>\n"
   ]
  },
  {
   "cell_type": "markdown",
   "metadata": {},
   "source": [
    "\n",
    "<h1 id=\"Постановка-задачи\">Постановка задачи<a class=\"anchor-link\" href=\"#Постановка-задачи\">¶</a></h1>\n"
   ]
  },
  {
   "cell_type": "markdown",
   "metadata": {},
   "source": [
    "\n",
    "<p>Реализуйте максимально эффективным образом алгоритм иерархической кластеризации с алгоритмом объединения single-link clustering для точек, расположенных на прямой.</p>\n"
   ]
  },
  {
   "cell_type": "markdown",
   "metadata": {},
   "source": [
    "\n",
    "<h1 id=\"Введение\">Введение<a class=\"anchor-link\" href=\"#Введение\">¶</a></h1>\n"
   ]
  },
  {
   "cell_type": "markdown",
   "metadata": {},
   "source": [
    "\n",
    "<p>Было реализовано два алгоритма:</p>\n",
    "<ul>\n",
    "<li>Наивный</li>\n",
    "<li>Быстрый</li>\n",
    "</ul>\n",
    "<p>Ниже представлено описание каждого из алгоритмов.</p>\n"
   ]
  },
  {
   "cell_type": "markdown",
   "metadata": {},
   "source": [
    "\n",
    "<h1 id=\"Общая-часть\">Общая часть<a class=\"anchor-link\" href=\"#Общая-часть\">¶</a></h1>\n"
   ]
  },
  {
   "cell_type": "markdown",
   "metadata": {},
   "source": [
    "\n",
    "<p>Node - вершина дерева поддерживающая следующий инвариант.</p>\n",
    "<p>[l, r) - полуинтервал данных, который доступен из данной вершины.</p>\n"
   ]
  },
  {
   "cell_type": "code",
   "execution_count": 1,
   "metadata": {},
   "outputs": [],
   "source": [
    "%matplotlib inline\n",
    "\n",
    "from scipy.cluster import hierarchy\n",
    "import matplotlib.pyplot as plt\n",
    "import numpy as np\n",
    "import random"
   ]
  },
  {
   "cell_type": "code",
   "execution_count": 2,
   "metadata": {},
   "outputs": [],
   "source": [
    "class Node:\n",
    "    _counter = 0\n",
    "    def __init__(self, l, r, childs=None):\n",
    "        self._l, self._r, self._childs = l, r, childs\n",
    "        self._id = Node._counter\n",
    "        Node._counter += 1\n",
    "\n",
    "    def __str__(self, deep=0):\n",
    "        prefix = \"|--\" * deep\n",
    "        # result = \"{}{}, l: {}, r: {}\".format(prefix, self._id, self._l, self._r)\n",
    "        result = \"{}{}\".format(prefix, self._id, self._l, self._r)\n",
    "        if self._childs:\n",
    "            for child in self._childs:\n",
    "                result += '\\n' + child.__str__(deep + 1) \n",
    "        return result\n",
    "\n",
    "    def __eq__(self, other):\n",
    "        result = self._l == other._l and self._r == other._r\n",
    "        if self.leaf() or other.leaf():\n",
    "            return result and self.leaf() == other.leaf()\n",
    "        for first, second in zip(self._childs, other._childs):\n",
    "            result = result and first == second\n",
    "        return result\n",
    "\n",
    "    def leaf(self):\n",
    "        return self._childs is None"
   ]
  },
  {
   "cell_type": "code",
   "execution_count": 3,
   "metadata": {},
   "outputs": [],
   "source": [
    "def get_deltas(value):\n",
    "    deltas = [right - left for left, right in zip(value[:-1], value[1:])]\n",
    "    return deltas"
   ]
  },
  {
   "cell_type": "markdown",
   "metadata": {},
   "source": [
    "\n",
    "<h1 id=\"The-naive-algorithm\">The naive algorithm<a class=\"anchor-link\" href=\"#The-naive-algorithm\">¶</a></h1>\n"
   ]
  },
  {
   "cell_type": "markdown",
   "metadata": {},
   "source": [
    "\n",
    "<p>Рекурсивное построение дерева.</p>\n",
    "<ul>\n",
    "<li>Найдем самое большое расстояние между соседнимим элементами, их может быть несколько одинаковых.</li>\n",
    "<li>Объединение по данному расстоянию очевидным образом будет происходить последним. </li>\n",
    "<li>Разделим вершины на разные классы в зависимости расположения каждой вершины от данных промежутков. </li>\n",
    "<li>Построим дерево для каждого множества вершин и подвесим их за одну общую вершину.</li>\n",
    "</ul>\n",
    "<p>Алгоритм похож на алгоритм quicksort. В худшем случае получим $ O(n^2)$</p>\n"
   ]
  },
  {
   "cell_type": "code",
   "execution_count": 4,
   "metadata": {},
   "outputs": [],
   "source": [
    "def recursion_build(deltas, start_index):\n",
    "    if not deltas:\n",
    "        return Node(start_index, start_index + 1)\n",
    "    max_delta = max(deltas)\n",
    "    childs = list()\n",
    "    new_deltas = list()\n",
    "    start = 0\n",
    "    for index, delta in enumerate(deltas):\n",
    "        if delta == max_delta:\n",
    "            childs.append(recursion_build(new_deltas, start_index + start))\n",
    "            new_deltas = list()\n",
    "            start = index + 1\n",
    "        else:\n",
    "            new_deltas.append(delta)\n",
    "    childs.append(recursion_build(new_deltas, start_index + start))\n",
    "    return Node(start_index, start_index + len(deltas) + 1, childs)\n",
    "\n",
    "\n",
    "def build_tree_simple(value):\n",
    "    deltas = get_deltas(value)\n",
    "    return recursion_build(deltas, 0)"
   ]
  },
  {
   "cell_type": "markdown",
   "metadata": {},
   "source": [
    "\n",
    "<h1 id=\"The-smart-algorithm\">The smart algorithm<a class=\"anchor-link\" href=\"#The-smart-algorithm\">¶</a></h1>\n"
   ]
  },
  {
   "cell_type": "markdown",
   "metadata": {},
   "source": [
    "\n",
    "<ul>\n",
    "<li>Будем строить дерево снизу вверх, начиная от самых маленьких расстояний.</li>\n",
    "<li>После обработки каждого расстояния будем поддерживать следующий инвариант. Для каждого кластера, current_nodes от граничных точек этого кластера указывают на него.</li>\n",
    "<li>Для примера до начала работы алгоритма, каждый элемент current_nodes указывает на нужный кластер $[i, i + 1)$. После завершения работы алгоритма, ячейки 0, n-1 будут ссылаться на вершину отвечающую за кластер $[0, n)$, то-есть за все данные.</li>\n",
    "<li>При фиксированном расстоянии d будем идти от меньших по индексам вершин к большим, у которых следующая вершина на расстоянии d. </li>\n",
    "<li>Пока они соседнии, кладем их в список.</li>\n",
    "<li>Когда следующая в обходе вершина не соседня, создаем новый кластер.</li>\n",
    "<li>При создании кластера изменим current_nodes для границ, тем самым сохранив инвариант.</li>\n",
    "</ul>\n",
    "<p>Асимптотика $ O(n \\log n) $</p>\n"
   ]
  },
  {
   "cell_type": "code",
   "execution_count": 5,
   "metadata": {},
   "outputs": [],
   "source": [
    "def check_neighborhood_of_vertices(first, second, current_nodes):\n",
    "    return current_nodes[first]._r == current_nodes[second]._l\n",
    "\n",
    "\n",
    "def union_group_to_new_node(group, current_nodes):\n",
    "    childs = list(map(lambda index: current_nodes[index], group))\n",
    "    l, r = childs[0]._l, childs[-1]._r\n",
    "    new_node = Node(l, r, childs)\n",
    "    current_nodes[l] = new_node\n",
    "    current_nodes[r - 1] = new_node\n",
    "\n",
    "\n",
    "def build_tree_smart(value):\n",
    "    deltas = get_deltas(value)\n",
    "    current_nodes = [Node(index, index + 1) for index in range(len(value))]\n",
    "    delta_to_indexes = dict()\n",
    "    for index, delta in enumerate(deltas):\n",
    "        if delta in delta_to_indexes:\n",
    "            delta_to_indexes[delta].append(index)\n",
    "        else:\n",
    "            delta_to_indexes[delta] = [index]\n",
    "    for delta, indexes in sorted(delta_to_indexes.items()):\n",
    "        group = list()\n",
    "        for index in indexes:\n",
    "            if group and not check_neighborhood_of_vertices(group[-1], index, current_nodes):\n",
    "                group.append(group[-1] + 1)\n",
    "                union_group_to_new_node(group, current_nodes)\n",
    "                group.clear()\n",
    "            group.append(index)\n",
    "        if group:\n",
    "            group.append(group[-1] + 1)\n",
    "            union_group_to_new_node(group, current_nodes)\n",
    "    return current_nodes[0]"
   ]
  },
  {
   "cell_type": "markdown",
   "metadata": {},
   "source": [
    "# Test"
   ]
  },
  {
   "cell_type": "code",
   "execution_count": 6,
   "metadata": {},
   "outputs": [],
   "source": [
    "def test(value):\n",
    "    assert value.sort() != value\n",
    "    first = build_tree_simple(value)\n",
    "    second = build_tree_smart(value)\n",
    "    assert first == second\n",
    "\n",
    "def test_all_eq():\n",
    "    values = list(range(1, 100, 5))\n",
    "    test(values)\n",
    "\n",
    "def some_tests():\n",
    "    test([2 ** i for i in range(10)])\n",
    "    test([0, 1, 3, 4])\n",
    "    test_all_eq()\n",
    "\n",
    "\n",
    "def random_test(num_of_element, max_int):\n",
    "    values = sorted([random.randrange(max_int) for i in range(num_of_element)])\n",
    "    test(values)\n",
    "\n",
    "\n",
    "def n_random_test(num_of_test=100, num_of_element=100, max_int=100):\n",
    "    for i in range(num_of_test):\n",
    "        random_test(num_of_element, max_int)"
   ]
  },
  {
   "cell_type": "markdown",
   "metadata": {},
   "source": [
    "\n",
    "<h1 id=\"Run\">Run<a class=\"anchor-link\" href=\"#Run\">¶</a></h1>\n"
   ]
  },
  {
   "cell_type": "code",
   "execution_count": 7,
   "metadata": {},
   "outputs": [],
   "source": [
    "random.seed(42)\n",
    "some_tests()\n",
    "n_random_test(10000, 100, 10)"
   ]
  },
  {
   "cell_type": "markdown",
   "metadata": {},
   "source": [
    "\n",
    "<h1 id=\"Some-examples\">Some examples<a class=\"anchor-link\" href=\"#Some-examples\">¶</a></h1>\n"
   ]
  },
  {
   "cell_type": "markdown",
   "metadata": {},
   "source": [
    "Выводятся индексы в исходном массиве, а не сами данные."
   ]
  },
  {
   "cell_type": "code",
   "execution_count": 8,
   "metadata": {},
   "outputs": [
    {
     "name": "stdout",
     "output_type": "stream",
     "text": [
      "3\n",
      "|--0\n",
      "|--1\n",
      "|--2\n"
     ]
    }
   ],
   "source": [
    "Node._counter = 0\n",
    "print(build_tree_smart([1, 1, 1]))"
   ]
  },
  {
   "cell_type": "code",
   "execution_count": 9,
   "metadata": {},
   "outputs": [
    {
     "name": "stdout",
     "output_type": "stream",
     "text": [
      "4\n",
      "|--3\n",
      "|--|--0\n",
      "|--|--1\n",
      "|--2\n"
     ]
    }
   ],
   "source": [
    "Node._counter = 0\n",
    "print(build_tree_smart([1, 2, 4]))"
   ]
  },
  {
   "cell_type": "code",
   "execution_count": 10,
   "metadata": {},
   "outputs": [
    {
     "name": "stdout",
     "output_type": "stream",
     "text": [
      "4\n",
      "|--0\n",
      "|--3\n",
      "|--|--1\n",
      "|--|--2\n"
     ]
    }
   ],
   "source": [
    "Node._counter = 0\n",
    "print(build_tree_smart([1, 3, 4]))"
   ]
  },
  {
   "cell_type": "markdown",
   "metadata": {},
   "source": [
    "\n",
    "<h1 id=\"Bad-cases\">Bad cases<a class=\"anchor-link\" href=\"#Bad-cases\">¶</a></h1>\n"
   ]
  },
  {
   "cell_type": "markdown",
   "metadata": {},
   "source": [
    "\n",
    "<p>Ясно, что когда все расстояния равны, кластеризации совсем не будет.</p>\n"
   ]
  },
  {
   "cell_type": "code",
   "execution_count": 11,
   "metadata": {},
   "outputs": [
    {
     "name": "stdout",
     "output_type": "stream",
     "text": [
      "5\n",
      "|--0\n",
      "|--1\n",
      "|--2\n",
      "|--3\n",
      "|--4\n"
     ]
    }
   ],
   "source": [
    "Node._counter = 0\n",
    "print(build_tree_smart(range(1, 20, 4)))"
   ]
  },
  {
   "cell_type": "markdown",
   "metadata": {},
   "source": [
    "\n",
    "<p>Рассмортим точку у которой слева много точек, а справа одна, но чуть ближе. \n",
    "Так как точек слева больше, хочется сказать, что скорее всего, она принадлежит левому классу.</p>\n"
   ]
  },
  {
   "cell_type": "code",
   "execution_count": 12,
   "metadata": {},
   "outputs": [
    {
     "name": "stdout",
     "output_type": "stream",
     "text": [
      "10\n",
      "|--8\n",
      "|--|--0\n",
      "|--|--1\n",
      "|--|--2\n",
      "|--|--3\n",
      "|--|--4\n",
      "|--|--5\n",
      "|--9\n",
      "|--|--6\n",
      "|--|--7\n"
     ]
    }
   ],
   "source": [
    "Node._counter = 0\n",
    "print(build_tree_smart([0, 0, 0, 0, 0, 0, 500, 999]))"
   ]
  },
  {
   "cell_type": "markdown",
   "metadata": {},
   "source": [
    "\n",
    "<p>Рассмортим точку у которой слева много близких друг к другу точек на расстояние d, а справа несколько подряд идущих точек с расстоянием d - eps. Мы объединили точку с самой правой, которая заметно дальше от нашей точки, чем точки слева.</p>\n"
   ]
  },
  {
   "cell_type": "code",
   "execution_count": 13,
   "metadata": {},
   "outputs": [
    {
     "name": "stdout",
     "output_type": "stream",
     "text": [
      "12\n",
      "|--10\n",
      "|--|--0\n",
      "|--|--1\n",
      "|--|--2\n",
      "|--|--3\n",
      "|--|--4\n",
      "|--|--5\n",
      "|--11\n",
      "|--|--6\n",
      "|--|--7\n",
      "|--|--8\n",
      "|--|--9\n"
     ]
    }
   ],
   "source": [
    "Node._counter = 0\n",
    "print(build_tree_smart([0, 0, 0, 0, 0, 0, 2, 3, 4, 5]))"
   ]
  }
 ],
 "metadata": {
  "kernelspec": {
   "display_name": "Python 3",
   "language": "python",
   "name": "python3"
  },
  "language_info": {
   "codemirror_mode": {
    "name": "ipython",
    "version": 3
   },
   "file_extension": ".py",
   "mimetype": "text/x-python",
   "name": "python",
   "nbconvert_exporter": "python",
   "pygments_lexer": "ipython3",
   "version": "3.7.3"
  }
 },
 "nbformat": 4,
 "nbformat_minor": 1
}
